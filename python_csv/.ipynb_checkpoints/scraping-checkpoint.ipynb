{
 "cells": [
  {
   "cell_type": "code",
   "execution_count": 54,
   "id": "dc8e0e49",
   "metadata": {},
   "outputs": [
    {
     "name": "stdout",
     "output_type": "stream",
     "text": [
      "Empty DataFrame\n",
      "Columns: [Name, Date, City]\n",
      "Index: []\n"
     ]
    }
   ],
   "source": [
    "# install necessary libraries\n",
    "# pip install requests beautifulsoup4 pandas\n",
    "\n",
    "import requests\n",
    "from bs4 import BeautifulSoup\n",
    "import pandas as pd\n",
    "\n",
    "# given URL\n",
    "url = \"https://tautmilesgloba.lt/dingo/\"\n",
    "\n",
    "# fetch and parse the HTML document\n",
    "response = requests.get(url)\n",
    "soup = BeautifulSoup(response.text, 'html.parser')\n",
    "\n",
    "# select parts of the document using CSS selectors\n",
    "# assuming translation: 'vardas' = name, 'data' = date, 'vieta' = city\n",
    "names = [element.get_text(strip=True) for element in soup.select(\"main-vardas\")]\n",
    "dates = [element.get_text(strip=True) for element in soup.select(\"main-data\")]\n",
    "cities = [element.get_text(strip=True) for element in soup.select(\"main-vieta\")]\n",
    "\n",
    "# create a DataFrame\n",
    "animals = pd.DataFrame({\n",
    "    'Name': names,\n",
    "    'Date': dates,\n",
    "    'City': cities\n",
    "})\n",
    "\n",
    "# save the DataFrame to a CSV file\n",
    "animals.to_csv('animal_shelter.csv', index=False)\n",
    "\n",
    "animals = pd.read_csv('animal_shelter.csv')\n",
    "print(animals)"
   ]
  },
  {
   "cell_type": "code",
   "execution_count": null,
   "id": "b48c8ed9",
   "metadata": {},
   "outputs": [],
   "source": []
  }
 ],
 "metadata": {
  "kernelspec": {
   "display_name": "Python 3 (ipykernel)",
   "language": "python",
   "name": "python3"
  },
  "language_info": {
   "codemirror_mode": {
    "name": "ipython",
    "version": 3
   },
   "file_extension": ".py",
   "mimetype": "text/x-python",
   "name": "python",
   "nbconvert_exporter": "python",
   "pygments_lexer": "ipython3",
   "version": "3.11.5"
  }
 },
 "nbformat": 4,
 "nbformat_minor": 5
}
